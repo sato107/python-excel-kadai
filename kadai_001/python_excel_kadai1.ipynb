{
  "nbformat": 4,
  "nbformat_minor": 0,
  "metadata": {
    "colab": {
      "provenance": []
    },
    "kernelspec": {
      "name": "python3",
      "display_name": "Python 3"
    },
    "language_info": {
      "name": "python"
    }
  },
  "cells": [
    {
      "cell_type": "code",
      "execution_count": 24,
      "metadata": {
        "colab": {
          "base_uri": "https://localhost:8080/"
        },
        "id": "wWw2W6mclAb2",
        "outputId": "848b3a15-959d-4845-c47d-eb4b03f4a793"
      },
      "outputs": [
        {
          "output_type": "stream",
          "name": "stdout",
          "text": [
            "Collecting numpy==1.24.4\n",
            "  Using cached numpy-1.24.4.tar.gz (10.9 MB)\n",
            "  Installing build dependencies ... \u001b[?25l\u001b[?25hdone\n",
            "  \u001b[1;31merror\u001b[0m: \u001b[1msubprocess-exited-with-error\u001b[0m\n",
            "  \n",
            "  \u001b[31m×\u001b[0m \u001b[32mGetting requirements to build wheel\u001b[0m did not run successfully.\n",
            "  \u001b[31m│\u001b[0m exit code: \u001b[1;36m1\u001b[0m\n",
            "  \u001b[31m╰─>\u001b[0m See above for output.\n",
            "  \n",
            "  \u001b[1;35mnote\u001b[0m: This error originates from a subprocess, and is likely not a problem with pip.\n",
            "  Getting requirements to build wheel ... \u001b[?25l\u001b[?25herror\n",
            "\u001b[1;31merror\u001b[0m: \u001b[1msubprocess-exited-with-error\u001b[0m\n",
            "\n",
            "\u001b[31m×\u001b[0m \u001b[32mGetting requirements to build wheel\u001b[0m did not run successfully.\n",
            "\u001b[31m│\u001b[0m exit code: \u001b[1;36m1\u001b[0m\n",
            "\u001b[31m╰─>\u001b[0m See above for output.\n",
            "\n",
            "\u001b[1;35mnote\u001b[0m: This error originates from a subprocess, and is likely not a problem with pip.\n"
          ]
        }
      ],
      "source": [
        "!pip install numpy==1.24.4 pandas==1.5.3 openpyxl==3.0.10\n",
        "import openpyxl\n",
        "import time"
      ]
    },
    {
      "cell_type": "code",
      "source": [
        "workbook = openpyxl.Workbook()\n",
        "ws = workbook.active\n",
        "\n",
        "ws[\"B2\"] = \"請求書\"\n",
        "data = [\n",
        "    \"株式会社ABC\",\n",
        "    \"〒101-0022 東京都千代田区神田練塀町300\",\n",
        "    \"TEL:03-1234-5678 FAX:03-1234-5678\",\n",
        "    \"担当者名:鈴木一郎 様\"\n",
        "]\n",
        "\n",
        "for i, item in enumerate(data):\n",
        "    ws.cell(row=i +4, column=2, value=item)\n",
        "\n",
        "\n",
        "header = [\"商品名\",\"数量\",\"単価\",\"金額\"]\n",
        "for h, item in enumerate(header):\n",
        "    ws.cell(row=10, column=h+2, value=item)\n",
        "\n",
        "data2 = [\n",
        "    [\"商品A\",2,10000,20000],\n",
        "    [\"商品B\",1,15000,15000],\n",
        "]\n",
        "\n",
        "for i, row_data in enumerate(data2):\n",
        "    # 行番号は項目行(10)の次の行(11)から始める\n",
        "    row_num = 11 + i\n",
        "    # 列番号は項目列と同じ(B列=2, C列=3,...)\n",
        "    ws.cell(row=row_num, column=2, value=row_data[0])\n",
        "    ws.cell(row=row_num, column=3, value=row_data[1])\n",
        "    ws.cell(row=row_num, column=4, value=row_data[2])\n",
        "    ws.cell(row=row_num, column=5, value=row_data[3])\n",
        "\n",
        "ws[\"E13\"] = f\"=E11+E12\"\n",
        "ws[\"B15\"] = \"合計\"\n",
        "ws[\"B16\"] = \"消費税\"\n",
        "ws[\"B17\"] = \"税込合計\"\n",
        "ws[\"E15\"] = ws[\"E13\"].value\n",
        "ws[\"E16\"] = f\"=E13*0.1\"\n",
        "ws[\"E17\"] = f\"=E15+E16\"\n",
        "\n",
        "ws[\"F4\"] = \"No.\"\n",
        "ws[\"F5\"] = \"日付\"\n",
        "ws[\"G4\"] = \"0001\"\n",
        "ws[\"G5\"] =time.strftime(\"%Y/%m/%d\", time.localtime())\n",
        "\n",
        "workbook.save(\"kadai.xlsx\")"
      ],
      "metadata": {
        "id": "4_7DukRElqQ0"
      },
      "execution_count": 27,
      "outputs": []
    },
    {
      "cell_type": "code",
      "source": [],
      "metadata": {
        "id": "zUuMy8IsnUHG"
      },
      "execution_count": null,
      "outputs": []
    }
  ]
}