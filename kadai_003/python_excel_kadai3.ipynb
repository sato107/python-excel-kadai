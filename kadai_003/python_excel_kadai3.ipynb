{
  "nbformat": 4,
  "nbformat_minor": 0,
  "metadata": {
    "colab": {
      "provenance": []
    },
    "kernelspec": {
      "name": "python3",
      "display_name": "Python 3"
    },
    "language_info": {
      "name": "python"
    }
  },
  "cells": [
    {
      "cell_type": "code",
      "execution_count": 1,
      "metadata": {
        "colab": {
          "base_uri": "https://localhost:8080/"
        },
        "id": "WfieXXbyLz6j",
        "outputId": "7a3fdae7-77de-40b0-e603-ed8b97877967"
      },
      "outputs": [
        {
          "output_type": "stream",
          "name": "stdout",
          "text": [
            "Collecting numpy==1.24.4\n",
            "  Downloading numpy-1.24.4.tar.gz (10.9 MB)\n",
            "\u001b[2K     \u001b[90m━━━━━━━━━━━━━━━━━━━━━━━━━━━━━━━━━━━━━━━━\u001b[0m \u001b[32m10.9/10.9 MB\u001b[0m \u001b[31m73.1 MB/s\u001b[0m eta \u001b[36m0:00:00\u001b[0m\n",
            "\u001b[?25h  Installing build dependencies ... \u001b[?25l\u001b[?25hdone\n",
            "  \u001b[1;31merror\u001b[0m: \u001b[1msubprocess-exited-with-error\u001b[0m\n",
            "  \n",
            "  \u001b[31m×\u001b[0m \u001b[32mGetting requirements to build wheel\u001b[0m did not run successfully.\n",
            "  \u001b[31m│\u001b[0m exit code: \u001b[1;36m1\u001b[0m\n",
            "  \u001b[31m╰─>\u001b[0m See above for output.\n",
            "  \n",
            "  \u001b[1;35mnote\u001b[0m: This error originates from a subprocess, and is likely not a problem with pip.\n",
            "  Getting requirements to build wheel ... \u001b[?25l\u001b[?25herror\n",
            "\u001b[1;31merror\u001b[0m: \u001b[1msubprocess-exited-with-error\u001b[0m\n",
            "\n",
            "\u001b[31m×\u001b[0m \u001b[32mGetting requirements to build wheel\u001b[0m did not run successfully.\n",
            "\u001b[31m│\u001b[0m exit code: \u001b[1;36m1\u001b[0m\n",
            "\u001b[31m╰─>\u001b[0m See above for output.\n",
            "\n",
            "\u001b[1;35mnote\u001b[0m: This error originates from a subprocess, and is likely not a problem with pip.\n"
          ]
        }
      ],
      "source": [
        "!pip install numpy==1.24.4 pandas==1.5.3 openpyxl==3.0.10"
      ]
    },
    {
      "cell_type": "code",
      "source": [
        "import openpyxl\n",
        "import pandas as pd\n",
        "\n",
        "df_2022 = pd.read_excel(\"2022_年間売上表.xlsx\")\n",
        "df_2022[\"売上年\"] = 2022\n",
        "\n",
        "df_2023 = pd.read_excel(\"2023_年間売上表.xlsx\")\n",
        "df_2023[\"売上年\"] = 2023\n",
        "\n",
        "file_list = [df_2022, df_2023]\n",
        "\n",
        "df = pd.concat(file_list)\n",
        "\n",
        "result = df.groupby([\"商品\",\"売上年\"])[\"金額（千円）\"].sum().reset_index()\n",
        "\n",
        "# 集計結果を新しいExcelファイルに書き出す\n",
        "# with構文を使用することで、ファイルの保存と終了処理を自動化\n",
        "with pd.ExcelWriter(\"売上集計表.xlsx\", engine=\"openpyxl\") as writer:\n",
        "    result.to_excel(writer, sheet_name=\"集計結果\", index=False)\n",
        "\n",
        "    # ワークブックとワークシートを選択\n",
        "    workbook = writer.book\n",
        "    sheet = writer.sheets[\"集計結果\"]\n",
        "\n",
        "    # ヘッダー行（1行目）の書式設定\n",
        "    header_fill = PatternFill(start_color=\"F2F2F2\", end_color=\"F2F2F2\", fill_type=\"solid\")\n",
        "\n",
        "    for cell in sheet[\"A1\":\"C1\"][0]:\n",
        "        cell.fill = header_fill"
      ],
      "metadata": {
        "id": "5LEnNI7RNbPN"
      },
      "execution_count": 17,
      "outputs": []
    },
    {
      "cell_type": "code",
      "source": [
        "from openpyxl.styles import PatternFill\n"
      ],
      "metadata": {
        "id": "hvgvW9tfN7Gf"
      },
      "execution_count": 10,
      "outputs": []
    },
    {
      "cell_type": "code",
      "source": [
        "sheet ="
      ],
      "metadata": {
        "id": "UGQXV24eUlWT"
      },
      "execution_count": null,
      "outputs": []
    }
  ]
}